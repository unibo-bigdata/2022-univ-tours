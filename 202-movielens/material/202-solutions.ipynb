{
 "cells": [
  {
   "cell_type": "markdown",
   "id": "83010976",
   "metadata": {
    "execution": {
     "iopub.execute_input": "2022-02-28T15:34:09.444324Z",
     "iopub.status.busy": "2022-02-28T15:34:09.441785Z",
     "iopub.status.idle": "2022-02-28T15:34:10.302913Z",
     "shell.execute_reply": "2022-02-28T15:34:10.302209Z",
     "shell.execute_reply.started": "2022-02-28T15:34:09.444282Z"
    }
   },
   "source": [
    "# 202 Spark - Movielens\n",
    "\n",
    "The goal of this lab is to run some analysis on the [MovieLens](https://grouplens.org/datasets/movielens/) dataset.\n",
    "\n",
    "- [Spark programming guide](https://spark.apache.org/docs/latest/rdd-programming-guide.html)\n",
    "- [PySpark RDD APIs](https://spark.apache.org/docs/latest/api/python/reference/api/pyspark.RDD.html)\n",
    "\n",
    "This lab's notebook is in the ```material``` folder; the solutions will be released in the same folder.\n",
    "\n",
    "The cluster configuration is the same from 201.\n",
    "- Clone the previous cluster\n",
    "- Update the addresses in Putty\n",
    "\n",
    "Download the dataset [here](https://big.csr.unibo.it/downloads/bigdata/ml-dataset.zip), unzip it and upload the files to S3.\n",
    "\n",
    "- ml_movies.csv (<u>movieId</u>:Long, title:String, genres:String) \n",
    "    - genres are separated by pipelines  (e.g., \"comedy|drama|action\")\n",
    "    - each movie is associated with many ratings\n",
    "\n",
    "- ml_ratings.csv (<u>userId</u>:Long, <u>movieId</u>:Long, rating:Double, year:Int)\n",
    "    - each rating is associated with many tags\n",
    "- ml_tags.csv (<u>userId</u>:Long, <u>movieId</u>:Long, <u>tag</u>:String, year:Int) "
   ]
  },
  {
   "cell_type": "code",
   "execution_count": 1,
   "id": "5a78c104-6d6f-48e6-b5ea-5880254f5cb1",
   "metadata": {
    "execution": {
     "iopub.execute_input": "2022-11-30T10:02:24.260840Z",
     "iopub.status.busy": "2022-11-30T10:02:24.260502Z",
     "iopub.status.idle": "2022-11-30T10:02:24.330321Z",
     "shell.execute_reply": "2022-11-30T10:02:24.329429Z",
     "shell.execute_reply.started": "2022-11-30T10:02:24.260813Z"
    },
    "tags": []
   },
   "outputs": [
    {
     "data": {
      "text/html": [
       "Current session configs: <tt>{'executorMemory': '8G', 'numExecutors': 2, 'executorCores': 3, 'conf': {'spark.dynamicAllocation.enabled': 'false'}, 'proxyUser': 'assumed-role_voclabs_user1798671_EG_student', 'kind': 'pyspark'}</tt><br>"
      ],
      "text/plain": [
       "<IPython.core.display.HTML object>"
      ]
     },
     "metadata": {},
     "output_type": "display_data"
    },
    {
     "data": {
      "text/html": [
       "No active sessions."
      ],
      "text/plain": [
       "<IPython.core.display.HTML object>"
      ]
     },
     "metadata": {},
     "output_type": "display_data"
    }
   ],
   "source": [
    "%%configure -f\n",
    "{\"executorMemory\":\"8G\", \"numExecutors\":2, \"executorCores\":3, \"conf\": {\"spark.dynamicAllocation.enabled\": \"false\"}}"
   ]
  },
  {
   "cell_type": "code",
   "execution_count": 6,
   "id": "6297e3f5-17d3-44ba-a06c-8b1acf0ca078",
   "metadata": {
    "execution": {
     "iopub.execute_input": "2022-11-30T10:46:09.608749Z",
     "iopub.status.busy": "2022-11-30T10:46:09.608412Z",
     "iopub.status.idle": "2022-11-30T10:46:09.671212Z",
     "shell.execute_reply": "2022-11-30T10:46:09.670495Z",
     "shell.execute_reply.started": "2022-11-30T10:46:09.608721Z"
    },
    "tags": []
   },
   "outputs": [
    {
     "data": {
      "application/vnd.jupyter.widget-view+json": {
       "model_id": "9ccf77b232d544f2ab6254ad35b77f46",
       "version_major": 2,
       "version_minor": 0
      },
      "text/plain": [
       "VBox()"
      ]
     },
     "metadata": {},
     "output_type": "display_data"
    },
    {
     "data": {
      "application/vnd.jupyter.widget-view+json": {
       "model_id": "",
       "version_major": 2,
       "version_minor": 0
      },
      "text/plain": [
       "FloatProgress(value=0.0, bar_style='info', description='Progress:', layout=Layout(height='25px', width='50%'),…"
      ]
     },
     "metadata": {},
     "output_type": "display_data"
    },
    {
     "name": "stdout",
     "output_type": "stream",
     "text": [
      "'SPARK UI: Enable forwarding of port 20888 and connect to http://localhost:20888/proxy/application_1669799482197_0002/'"
     ]
    }
   ],
   "source": [
    "bucketname = \"univ-tours-bd2223-egallinucci\"\n",
    "\n",
    "path_ml_movies = \"s3a://\"+bucketname+\"/datasets/movielens/ml-movies.csv\"\n",
    "path_ml_ratings = \"s3a://\"+bucketname+\"/datasets/movielens/ml-ratings.csv\"\n",
    "path_ml_tags = \"s3a://\"+bucketname+\"/datasets/movielens/ml-tags.csv\"\n",
    "\n",
    "sc.applicationId\n",
    "\n",
    "\"SPARK UI: Enable forwarding of port 20888 and connect to http://localhost:20888/proxy/\" + sc.applicationId + \"/\""
   ]
  },
  {
   "cell_type": "code",
   "execution_count": 3,
   "id": "27a1deff-5d1a-4e32-98f9-ddaec0bf2a83",
   "metadata": {
    "execution": {
     "iopub.execute_input": "2022-11-30T10:34:29.148975Z",
     "iopub.status.busy": "2022-11-30T10:34:29.148524Z",
     "iopub.status.idle": "2022-11-30T10:34:29.255481Z",
     "shell.execute_reply": "2022-11-30T10:34:29.254133Z",
     "shell.execute_reply.started": "2022-11-30T10:34:29.148934Z"
    },
    "tags": []
   },
   "outputs": [
    {
     "data": {
      "application/vnd.jupyter.widget-view+json": {
       "model_id": "d58b6cb3ab414e0d80440448024df01e",
       "version_major": 2,
       "version_minor": 0
      },
      "text/plain": [
       "VBox()"
      ]
     },
     "metadata": {},
     "output_type": "display_data"
    },
    {
     "data": {
      "application/vnd.jupyter.widget-view+json": {
       "model_id": "",
       "version_major": 2,
       "version_minor": 0
      },
      "text/plain": [
       "FloatProgress(value=0.0, bar_style='info', description='Progress:', layout=Layout(height='25px', width='50%'),…"
      ]
     },
     "metadata": {},
     "output_type": "display_data"
    }
   ],
   "source": [
    "commaRegex = \",(?=(?:[^\\\"]*\\\"[^\\\"]*\\\")*[^\\\"]*$)\"\n",
    "pipeRegex = \"\\\\|(?=(?:[^\\\"]*\\\"[^\\\"]*\\\")*[^\\\"]*$)\"\n",
    "\n",
    "quotes = \"\\\"\"\n",
    "def parseText(title):\n",
    "    try:\n",
    "        title = title.strip()\n",
    "        while (re.match(quotes,title[0:1])):\n",
    "            title = title[1:]\n",
    "        while (re.match(quotes,title[len(title)-1:])):\n",
    "            title = title[:len(title)-1]\n",
    "        return title\n",
    "    except:\n",
    "        return \"\""
   ]
  },
  {
   "cell_type": "code",
   "execution_count": 7,
   "id": "fafbf9f7-eba9-4226-a001-07184b6b1e60",
   "metadata": {
    "execution": {
     "iopub.execute_input": "2022-11-30T10:46:17.846373Z",
     "iopub.status.busy": "2022-11-30T10:46:17.846058Z",
     "iopub.status.idle": "2022-11-30T10:46:20.137738Z",
     "shell.execute_reply": "2022-11-30T10:46:20.136772Z",
     "shell.execute_reply.started": "2022-11-30T10:46:17.846348Z"
    },
    "tags": []
   },
   "outputs": [
    {
     "data": {
      "application/vnd.jupyter.widget-view+json": {
       "model_id": "70cc5a28cba741bab7819b765940c3a2",
       "version_major": 2,
       "version_minor": 0
      },
      "text/plain": [
       "VBox()"
      ]
     },
     "metadata": {},
     "output_type": "display_data"
    },
    {
     "data": {
      "application/vnd.jupyter.widget-view+json": {
       "model_id": "",
       "version_major": 2,
       "version_minor": 0
      },
      "text/plain": [
       "FloatProgress(value=0.0, bar_style='info', description='Progress:', layout=Layout(height='25px', width='50%'),…"
      ]
     },
     "metadata": {},
     "output_type": "display_data"
    }
   ],
   "source": [
    "from itertools import islice\n",
    "from datetime import datetime\n",
    "import re\n",
    "\n",
    "rddMovies = spark.read.option(\"header\",\"true\").csv(path_ml_movies).rdd.map(lambda row: (int(row[0]),parseText(row[1]),row[2]))\n",
    "rddRatings = spark.read.option(\"header\",\"true\").csv(path_ml_ratings).rdd.map(lambda row: (int(row[0]),int(row[1]),float(row[2]),datetime.utcfromtimestamp(int(row[3])).strftime('%Y')))\n",
    "#rddTags = spark.read.option(\"header\",\"true\").csv(path_ml_tags).rdd.map(lambda row: (int(row[0]),int(row[1]),parseText(row[2]),datetime.utcfromtimestamp(int(row[3])).strftime('%Y')))"
   ]
  },
  {
   "cell_type": "markdown",
   "id": "d9dfbdfd-2ee7-4488-a95f-9f1f809e581c",
   "metadata": {
    "execution": {
     "iopub.execute_input": "2022-02-28T15:59:00.715374Z",
     "iopub.status.busy": "2022-02-28T15:59:00.715148Z",
     "iopub.status.idle": "2022-02-28T15:59:01.005430Z",
     "shell.execute_reply": "2022-02-28T15:59:01.004685Z",
     "shell.execute_reply.started": "2022-02-28T15:59:00.715351Z"
    },
    "tags": []
   },
   "source": [
    "## 303-1 Datasets exploration\n",
    "\n",
    "Cache the dataset and answer the following questions:\n",
    "\n",
    "- How many (distinct) users, movies, ratings, and tags?\n",
    "- How many (distinct) genres?\n",
    "- On average, how many ratings per user?\n",
    "- On average, how many ratings per movie?\n",
    "- On average, how many genres per movie?\n",
    "- What is the range of ratings?\n",
    "- On average, how many ratings per year?"
   ]
  },
  {
   "cell_type": "code",
   "execution_count": 8,
   "id": "1f07a5b9-baaf-4564-8988-33e23ced42ea",
   "metadata": {
    "execution": {
     "iopub.execute_input": "2022-11-30T10:46:22.223917Z",
     "iopub.status.busy": "2022-11-30T10:46:22.223581Z",
     "iopub.status.idle": "2022-11-30T10:47:53.845645Z",
     "shell.execute_reply": "2022-11-30T10:47:53.844634Z",
     "shell.execute_reply.started": "2022-11-30T10:46:22.223892Z"
    },
    "tags": []
   },
   "outputs": [
    {
     "data": {
      "application/vnd.jupyter.widget-view+json": {
       "model_id": "4346f7dcccc14d0ca5851c320d7e8f7d",
       "version_major": 2,
       "version_minor": 0
      },
      "text/plain": [
       "VBox()"
      ]
     },
     "metadata": {},
     "output_type": "display_data"
    },
    {
     "data": {
      "application/vnd.jupyter.widget-view+json": {
       "model_id": "",
       "version_major": 2,
       "version_minor": 0
      },
      "text/plain": [
       "FloatProgress(value=0.0, bar_style='info', description='Progress:', layout=Layout(height='25px', width='50%'),…"
      ]
     },
     "metadata": {},
     "output_type": "display_data"
    },
    {
     "name": "stdout",
     "output_type": "stream",
     "text": [
      "27753444"
     ]
    }
   ],
   "source": [
    "rddMoviesCached = rddMovies.cache()\n",
    "rddRatingsCached = rddRatings.cache()\n",
    "#rddTagsCached = rddTags.cache()\n",
    "\n",
    "rddMoviesCached.count()\n",
    "rddRatingsCached.count()\n",
    "#rddTagsCached.count()"
   ]
  },
  {
   "cell_type": "code",
   "execution_count": 9,
   "id": "4d918f35-5f6d-48d5-9d2d-ec1db66014b3",
   "metadata": {
    "execution": {
     "iopub.execute_input": "2022-11-30T10:49:31.030432Z",
     "iopub.status.busy": "2022-11-30T10:49:31.030106Z",
     "iopub.status.idle": "2022-11-30T10:49:31.291837Z",
     "shell.execute_reply": "2022-11-30T10:49:31.291076Z",
     "shell.execute_reply.started": "2022-11-30T10:49:31.030406Z"
    },
    "tags": []
   },
   "outputs": [
    {
     "data": {
      "application/vnd.jupyter.widget-view+json": {
       "model_id": "a115efee97584854bb8661a61b813f57",
       "version_major": 2,
       "version_minor": 0
      },
      "text/plain": [
       "VBox()"
      ]
     },
     "metadata": {},
     "output_type": "display_data"
    },
    {
     "data": {
      "application/vnd.jupyter.widget-view+json": {
       "model_id": "",
       "version_major": 2,
       "version_minor": 0
      },
      "text/plain": [
       "FloatProgress(value=0.0, bar_style='info', description='Progress:', layout=Layout(height='25px', width='50%'),…"
      ]
     },
     "metadata": {},
     "output_type": "display_data"
    },
    {
     "name": "stdout",
     "output_type": "stream",
     "text": [
      "'Number of movies: 58098'"
     ]
    }
   ],
   "source": [
    "\"Number of movies: \" + str(rddMoviesCached.count())"
   ]
  },
  {
   "cell_type": "code",
   "execution_count": 10,
   "id": "484db5dc-d74f-44ab-9d47-ba8c7e8162db",
   "metadata": {
    "execution": {
     "iopub.execute_input": "2022-11-30T10:49:33.341545Z",
     "iopub.status.busy": "2022-11-30T10:49:33.341082Z",
     "iopub.status.idle": "2022-11-30T10:49:36.780750Z",
     "shell.execute_reply": "2022-11-30T10:49:36.779910Z",
     "shell.execute_reply.started": "2022-11-30T10:49:33.341501Z"
    },
    "tags": []
   },
   "outputs": [
    {
     "data": {
      "application/vnd.jupyter.widget-view+json": {
       "model_id": "e8f4a9ff612449d0b623534834247d6a",
       "version_major": 2,
       "version_minor": 0
      },
      "text/plain": [
       "VBox()"
      ]
     },
     "metadata": {},
     "output_type": "display_data"
    },
    {
     "data": {
      "application/vnd.jupyter.widget-view+json": {
       "model_id": "",
       "version_major": 2,
       "version_minor": 0
      },
      "text/plain": [
       "FloatProgress(value=0.0, bar_style='info', description='Progress:', layout=Layout(height='25px', width='50%'),…"
      ]
     },
     "metadata": {},
     "output_type": "display_data"
    },
    {
     "name": "stdout",
     "output_type": "stream",
     "text": [
      "'Number of ratings: 27753444'"
     ]
    }
   ],
   "source": [
    "\"Number of ratings: \" + str(rddRatingsCached.count())"
   ]
  },
  {
   "cell_type": "code",
   "execution_count": 11,
   "id": "3717df89-ab45-4889-b535-63a954fa102e",
   "metadata": {
    "execution": {
     "iopub.execute_input": "2022-11-30T10:49:39.343477Z",
     "iopub.status.busy": "2022-11-30T10:49:39.343136Z",
     "iopub.status.idle": "2022-11-30T10:49:50.660868Z",
     "shell.execute_reply": "2022-11-30T10:49:50.659997Z",
     "shell.execute_reply.started": "2022-11-30T10:49:39.343446Z"
    },
    "tags": []
   },
   "outputs": [
    {
     "data": {
      "application/vnd.jupyter.widget-view+json": {
       "model_id": "aa8c733d9e7c4654ab43bcaa290245c3",
       "version_major": 2,
       "version_minor": 0
      },
      "text/plain": [
       "VBox()"
      ]
     },
     "metadata": {},
     "output_type": "display_data"
    },
    {
     "data": {
      "application/vnd.jupyter.widget-view+json": {
       "model_id": "",
       "version_major": 2,
       "version_minor": 0
      },
      "text/plain": [
       "FloatProgress(value=0.0, bar_style='info', description='Progress:', layout=Layout(height='25px', width='50%'),…"
      ]
     },
     "metadata": {},
     "output_type": "display_data"
    },
    {
     "name": "stdout",
     "output_type": "stream",
     "text": [
      "'Number of users: 283228'"
     ]
    }
   ],
   "source": [
    "\"Number of users: \" + str(rddRatingsCached.map(lambda x: (x[0])).distinct().count())"
   ]
  },
  {
   "cell_type": "code",
   "execution_count": 12,
   "id": "fbc8a414-9724-481d-b6a0-20a3c9557936",
   "metadata": {
    "execution": {
     "iopub.execute_input": "2022-11-30T10:49:52.327495Z",
     "iopub.status.busy": "2022-11-30T10:49:52.327187Z",
     "iopub.status.idle": "2022-11-30T10:49:53.097271Z",
     "shell.execute_reply": "2022-11-30T10:49:53.096381Z",
     "shell.execute_reply.started": "2022-11-30T10:49:52.327471Z"
    },
    "tags": []
   },
   "outputs": [
    {
     "data": {
      "application/vnd.jupyter.widget-view+json": {
       "model_id": "109d6a42a28641f59e95e7cf1d9a4023",
       "version_major": 2,
       "version_minor": 0
      },
      "text/plain": [
       "VBox()"
      ]
     },
     "metadata": {},
     "output_type": "display_data"
    },
    {
     "data": {
      "application/vnd.jupyter.widget-view+json": {
       "model_id": "",
       "version_major": 2,
       "version_minor": 0
      },
      "text/plain": [
       "FloatProgress(value=0.0, bar_style='info', description='Progress:', layout=Layout(height='25px', width='50%'),…"
      ]
     },
     "metadata": {},
     "output_type": "display_data"
    },
    {
     "name": "stdout",
     "output_type": "stream",
     "text": [
      "'Number of genres: 20'"
     ]
    }
   ],
   "source": [
    "\"Number of genres: \" + str(\n",
    "    rddMoviesCached.\\\n",
    "    flatMap(lambda x: x[2].split('|')).\\\n",
    "    distinct().count()\n",
    ")"
   ]
  },
  {
   "cell_type": "code",
   "execution_count": 13,
   "id": "b2813d56-43dc-4dda-992d-881c31ce8f43",
   "metadata": {
    "execution": {
     "iopub.execute_input": "2022-11-30T10:49:55.086479Z",
     "iopub.status.busy": "2022-11-30T10:49:55.086161Z",
     "iopub.status.idle": "2022-11-30T10:50:04.395101Z",
     "shell.execute_reply": "2022-11-30T10:50:04.394240Z",
     "shell.execute_reply.started": "2022-11-30T10:49:55.086453Z"
    },
    "tags": []
   },
   "outputs": [
    {
     "data": {
      "application/vnd.jupyter.widget-view+json": {
       "model_id": "2b3176f124ff4eddb39f0ae0fef1b475",
       "version_major": 2,
       "version_minor": 0
      },
      "text/plain": [
       "VBox()"
      ]
     },
     "metadata": {},
     "output_type": "display_data"
    },
    {
     "data": {
      "application/vnd.jupyter.widget-view+json": {
       "model_id": "",
       "version_major": 2,
       "version_minor": 0
      },
      "text/plain": [
       "FloatProgress(value=0.0, bar_style='info', description='Progress:', layout=Layout(height='25px', width='50%'),…"
      ]
     },
     "metadata": {},
     "output_type": "display_data"
    },
    {
     "name": "stdout",
     "output_type": "stream",
     "text": [
      "'Number of ratings per user: 97.98976089934611'"
     ]
    }
   ],
   "source": [
    "res = rddRatingsCached.\\\n",
    "    map(lambda x: (x[0],1)).\\\n",
    "    reduceByKey(lambda a,b: a+b).\\\n",
    "    map(lambda x: (x[1],1)).\\\n",
    "    reduce(lambda a,b: (a[0]+b[0], a[1]+b[1]))\n",
    "\"Number of ratings per user: \" + str(res[0]/res[1])"
   ]
  },
  {
   "cell_type": "code",
   "execution_count": 14,
   "id": "014c42d5-6303-4e7a-8399-83a22ca14572",
   "metadata": {
    "execution": {
     "iopub.execute_input": "2022-11-30T10:50:10.038157Z",
     "iopub.status.busy": "2022-11-30T10:50:10.037843Z",
     "iopub.status.idle": "2022-11-30T10:50:19.339707Z",
     "shell.execute_reply": "2022-11-30T10:50:19.338893Z",
     "shell.execute_reply.started": "2022-11-30T10:50:10.038132Z"
    },
    "tags": []
   },
   "outputs": [
    {
     "data": {
      "application/vnd.jupyter.widget-view+json": {
       "model_id": "903ec18f5aa84d01bcd799d081aa533d",
       "version_major": 2,
       "version_minor": 0
      },
      "text/plain": [
       "VBox()"
      ]
     },
     "metadata": {},
     "output_type": "display_data"
    },
    {
     "data": {
      "application/vnd.jupyter.widget-view+json": {
       "model_id": "",
       "version_major": 2,
       "version_minor": 0
      },
      "text/plain": [
       "FloatProgress(value=0.0, bar_style='info', description='Progress:', layout=Layout(height='25px', width='50%'),…"
      ]
     },
     "metadata": {},
     "output_type": "display_data"
    },
    {
     "name": "stdout",
     "output_type": "stream",
     "text": [
      "'Number of ratings per movie: 515.0113010076268'"
     ]
    }
   ],
   "source": [
    "res = rddRatingsCached.\\\n",
    "    map(lambda x: (x[1],1)).\\\n",
    "    reduceByKey(lambda a,b: a+b).\\\n",
    "    map(lambda x: (x[1],1)).\\\n",
    "    reduce(lambda a,b: (a[0]+b[0], a[1]+b[1]))\n",
    "\"Number of ratings per movie: \" + str(res[0]/res[1])"
   ]
  },
  {
   "cell_type": "code",
   "execution_count": 15,
   "id": "00d8e9bc-cdba-4e25-9d7e-18cdfc348da7",
   "metadata": {
    "execution": {
     "iopub.execute_input": "2022-11-30T13:11:01.247219Z",
     "iopub.status.busy": "2022-11-30T13:11:01.246902Z",
     "iopub.status.idle": "2022-11-30T13:11:02.010147Z",
     "shell.execute_reply": "2022-11-30T13:11:02.009441Z",
     "shell.execute_reply.started": "2022-11-30T13:11:01.247194Z"
    },
    "tags": []
   },
   "outputs": [
    {
     "data": {
      "application/vnd.jupyter.widget-view+json": {
       "model_id": "be7759d4facd468b8f169950a5c1562d",
       "version_major": 2,
       "version_minor": 0
      },
      "text/plain": [
       "VBox()"
      ]
     },
     "metadata": {},
     "output_type": "display_data"
    },
    {
     "data": {
      "application/vnd.jupyter.widget-view+json": {
       "model_id": "",
       "version_major": 2,
       "version_minor": 0
      },
      "text/plain": [
       "FloatProgress(value=0.0, bar_style='info', description='Progress:', layout=Layout(height='25px', width='50%'),…"
      ]
     },
     "metadata": {},
     "output_type": "display_data"
    },
    {
     "name": "stdout",
     "output_type": "stream",
     "text": [
      "'Number of genres per movie: 1.8263451409687081'"
     ]
    }
   ],
   "source": [
    "res = rddMoviesCached.\\\n",
    "    map(lambda x: (len(x[2].split('|')),1)).\\\n",
    "    reduce(lambda a,b: (a[0]+b[0], a[1]+b[1]))\n",
    "\"Number of genres per movie: \" + str(res[0]/res[1])"
   ]
  },
  {
   "cell_type": "code",
   "execution_count": 16,
   "id": "411b959e-d491-4227-be6c-7eda9481c398",
   "metadata": {
    "execution": {
     "iopub.execute_input": "2022-11-30T13:11:03.355620Z",
     "iopub.status.busy": "2022-11-30T13:11:03.355313Z",
     "iopub.status.idle": "2022-11-30T13:11:14.686673Z",
     "shell.execute_reply": "2022-11-30T13:11:14.685904Z",
     "shell.execute_reply.started": "2022-11-30T13:11:03.355595Z"
    },
    "tags": []
   },
   "outputs": [
    {
     "data": {
      "application/vnd.jupyter.widget-view+json": {
       "model_id": "f1227d50e29a47d181c36355be68577a",
       "version_major": 2,
       "version_minor": 0
      },
      "text/plain": [
       "VBox()"
      ]
     },
     "metadata": {},
     "output_type": "display_data"
    },
    {
     "data": {
      "application/vnd.jupyter.widget-view+json": {
       "model_id": "",
       "version_major": 2,
       "version_minor": 0
      },
      "text/plain": [
       "FloatProgress(value=0.0, bar_style='info', description='Progress:', layout=Layout(height='25px', width='50%'),…"
      ]
     },
     "metadata": {},
     "output_type": "display_data"
    },
    {
     "name": "stdout",
     "output_type": "stream",
     "text": [
      "'Range of ratings: 0.5 to 5.0'"
     ]
    }
   ],
   "source": [
    "\"Range of ratings: \" +\\\n",
    "    str(rddRatingsCached.map(lambda x: x[2]).min()) +\\\n",
    "    \" to \" +\\\n",
    "    str(rddRatingsCached.map(lambda x: x[2]).max())"
   ]
  },
  {
   "cell_type": "code",
   "execution_count": 17,
   "id": "c0a91679-9d2b-4347-b412-7449a5196637",
   "metadata": {
    "execution": {
     "iopub.execute_input": "2022-11-30T13:11:14.688067Z",
     "iopub.status.busy": "2022-11-30T13:11:14.687838Z",
     "iopub.status.idle": "2022-11-30T13:11:23.986517Z",
     "shell.execute_reply": "2022-11-30T13:11:23.985635Z",
     "shell.execute_reply.started": "2022-11-30T13:11:14.688044Z"
    },
    "tags": []
   },
   "outputs": [
    {
     "data": {
      "application/vnd.jupyter.widget-view+json": {
       "model_id": "c92152425155423b9dbc8d38d27a5640",
       "version_major": 2,
       "version_minor": 0
      },
      "text/plain": [
       "VBox()"
      ]
     },
     "metadata": {},
     "output_type": "display_data"
    },
    {
     "data": {
      "application/vnd.jupyter.widget-view+json": {
       "model_id": "",
       "version_major": 2,
       "version_minor": 0
      },
      "text/plain": [
       "FloatProgress(value=0.0, bar_style='info', description='Progress:', layout=Layout(height='25px', width='50%'),…"
      ]
     },
     "metadata": {},
     "output_type": "display_data"
    },
    {
     "name": "stdout",
     "output_type": "stream",
     "text": [
      "'Number of ratings per year: 1156393.5'"
     ]
    }
   ],
   "source": [
    "res = rddRatingsCached.\\\n",
    "    map(lambda x: (x[3],1)).\\\n",
    "    reduceByKey(lambda a,b: a+b).\\\n",
    "    map(lambda x: (x[1],1)).\\\n",
    "    reduce(lambda a,b: (a[0]+b[0], a[1]+b[1]))\n",
    "\"Number of ratings per year: \" + str(res[0]/res[1])"
   ]
  },
  {
   "cell_type": "markdown",
   "id": "9a4016ac-cb34-48d0-a45c-29122e5fa59a",
   "metadata": {},
   "source": [
    "## 303-2 Compute the average rating for each movie\n",
    "\n",
    "- Export the result to S3\n",
    "- Do not start from cached RDDs\n",
    "- Evaluate:\n",
    "  - Join-and-Aggregate vs Aggregate-and-Join\n",
    "  - Best join vs broadcast\n",
    "- Use Tableau to check the results\n",
    "  - Download the file from S3 instead of connecting to S3"
   ]
  },
  {
   "cell_type": "code",
   "execution_count": 18,
   "id": "feb49547-58f9-4994-929a-da867e2e4cc6",
   "metadata": {
    "execution": {
     "iopub.execute_input": "2022-11-30T13:11:34.238889Z",
     "iopub.status.busy": "2022-11-30T13:11:34.238569Z",
     "iopub.status.idle": "2022-11-30T13:11:34.498791Z",
     "shell.execute_reply": "2022-11-30T13:11:34.497941Z",
     "shell.execute_reply.started": "2022-11-30T13:11:34.238864Z"
    },
    "tags": []
   },
   "outputs": [
    {
     "data": {
      "application/vnd.jupyter.widget-view+json": {
       "model_id": "0abd3ee3e8ca425c9519f2489b030e9b",
       "version_major": 2,
       "version_minor": 0
      },
      "text/plain": [
       "VBox()"
      ]
     },
     "metadata": {},
     "output_type": "display_data"
    },
    {
     "data": {
      "application/vnd.jupyter.widget-view+json": {
       "model_id": "",
       "version_major": 2,
       "version_minor": 0
      },
      "text/plain": [
       "FloatProgress(value=0.0, bar_style='info', description='Progress:', layout=Layout(height='25px', width='50%'),…"
      ]
     },
     "metadata": {},
     "output_type": "display_data"
    },
    {
     "name": "stdout",
     "output_type": "stream",
     "text": [
      "JavaObject id=o363\n",
      "JavaObject id=o365\n",
      "JavaObject id=o367\n",
      "JavaObject id=o369"
     ]
    }
   ],
   "source": [
    "path_output_avgRatPerMovie = \"s3a://\"+bucketname+\"/spark/avgRatPerMovie-test\"\n",
    "# rdd.coalesce(1).toDF().write.format(\"csv\").mode('overwrite').save(path_output_avgRatPerMovie)\n",
    "\n",
    "for (id, rdd) in spark.sparkContext._jsc.getPersistentRDDs().items():\n",
    "    rdd.unpersist()"
   ]
  },
  {
   "cell_type": "markdown",
   "id": "dd4fdb9c-7a73-43a0-a121-fe98dc71ea02",
   "metadata": {},
   "source": [
    "### Join-and-Aggregate vs Aggregate-and-Join"
   ]
  },
  {
   "cell_type": "code",
   "execution_count": null,
   "id": "35060678-a714-4871-a0ee-bd6d1149c2c9",
   "metadata": {
    "tags": []
   },
   "outputs": [],
   "source": [
    "rddMoviesKV = rddMovies.map(lambda x: ((x[0]),(x[1])))\n",
    "rddRatings.\\\n",
    "    map(lambda x: (x[1],x[2])).\\\n",
    "    join(rddMoviesKV).\\\n",
    "    map(lambda x: (x[1][1],(x[1][0],1))).\\\n",
    "    reduceByKey(lambda a,b: (a[0]+b[0], a[1]+b[1])).\\\n",
    "    map(lambda x: (x[0], x[1][0]/x[1][1], x[1][1])).\\\n",
    "    coalesce(1).\\\n",
    "    collect()\n",
    "    #toDF().write.format(\"csv\").mode('overwrite').save(path_output_avgRatPerMovie)"
   ]
  },
  {
   "cell_type": "code",
   "execution_count": 20,
   "id": "45bddac2-b5b0-4eee-b34d-312877a7262e",
   "metadata": {
    "execution": {
     "iopub.execute_input": "2022-11-30T13:14:20.207201Z",
     "iopub.status.busy": "2022-11-30T13:14:20.206885Z",
     "iopub.status.idle": "2022-11-30T13:16:01.820221Z",
     "shell.execute_reply": "2022-11-30T13:16:01.819500Z",
     "shell.execute_reply.started": "2022-11-30T13:14:20.207175Z"
    },
    "tags": []
   },
   "outputs": [
    {
     "data": {
      "application/vnd.jupyter.widget-view+json": {
       "model_id": "26b65dfb16ce47baa958afb3eebfd451",
       "version_major": 2,
       "version_minor": 0
      },
      "text/plain": [
       "VBox()"
      ]
     },
     "metadata": {},
     "output_type": "display_data"
    },
    {
     "data": {
      "application/vnd.jupyter.widget-view+json": {
       "model_id": "",
       "version_major": 2,
       "version_minor": 0
      },
      "text/plain": [
       "FloatProgress(value=0.0, bar_style='info', description='Progress:', layout=Layout(height='25px', width='50%'),…"
      ]
     },
     "metadata": {},
     "output_type": "display_data"
    }
   ],
   "source": [
    "rddMoviesKV = rddMovies.map(lambda x: ((x[0]),(x[1])))\n",
    "rddRatings.\\\n",
    "    map(lambda x: (x[1],(x[2],1))).\\\n",
    "    reduceByKey(lambda a,b: (a[0]+b[0], a[1]+b[1])).\\\n",
    "    mapValues(lambda x: (x[0]/x[1], x[1])).\\\n",
    "    join(rddMoviesKV).\\\n",
    "    map(lambda x: (x[1][1],x[1][0][0],x[1][0][1])).\\\n",
    "    coalesce(1).\\\n",
    "    collect()\n",
    "    toDF().write.format(\"csv\").mode('overwrite').save(path_output_avgRatPerMovie)"
   ]
  },
  {
   "cell_type": "markdown",
   "id": "887bbb2f-5b97-4918-ae8c-dd98f252a6e6",
   "metadata": {},
   "source": [
    "Most of the time is spent in just reading the data; nonetheless, aggregating BEFORE joining effectively reduces execution times\n",
    "\n",
    "### Best join vs broadcast"
   ]
  },
  {
   "cell_type": "code",
   "execution_count": 22,
   "id": "d17c7e50-802a-46e7-b522-2269e23c0085",
   "metadata": {
    "execution": {
     "iopub.execute_input": "2022-11-30T13:19:00.868117Z",
     "iopub.status.busy": "2022-11-30T13:19:00.867800Z",
     "iopub.status.idle": "2022-11-30T13:20:42.442023Z",
     "shell.execute_reply": "2022-11-30T13:20:42.441255Z",
     "shell.execute_reply.started": "2022-11-30T13:19:00.868089Z"
    },
    "tags": []
   },
   "outputs": [
    {
     "data": {
      "application/vnd.jupyter.widget-view+json": {
       "model_id": "d5e40f6bbb2e434085bd167ee82df18e",
       "version_major": 2,
       "version_minor": 0
      },
      "text/plain": [
       "VBox()"
      ]
     },
     "metadata": {},
     "output_type": "display_data"
    },
    {
     "data": {
      "application/vnd.jupyter.widget-view+json": {
       "model_id": "",
       "version_major": 2,
       "version_minor": 0
      },
      "text/plain": [
       "FloatProgress(value=0.0, bar_style='info', description='Progress:', layout=Layout(height='25px', width='50%'),…"
      ]
     },
     "metadata": {},
     "output_type": "display_data"
    }
   ],
   "source": [
    "rddMoviesKV = rddMovies.map(lambda x: ((x[0]),(x[1])))\n",
    "bRddMovies = sc.broadcast(rddMoviesKV.collectAsMap())\n",
    "rddRatings.\\\n",
    "    map(lambda x: (x[1],(x[2],1))).\\\n",
    "    reduceByKey(lambda a,b: (a[0]+b[0], a[1]+b[1])).\\\n",
    "    mapValues(lambda x: (x[0]/x[1], x[1])).\\\n",
    "    map(lambda x: (x[0],(x[1],bRddMovies.value[x[0]] )) ).\\\n",
    "    map(lambda x: (x[1][1],x[1][0][0],x[1][0][1])).\\\n",
    "    coalesce(1).\\\n",
    "    toDF().write.format(\"csv\").mode('overwrite').save(path_output_avgRatPerMovie)"
   ]
  },
  {
   "cell_type": "markdown",
   "id": "c07050d2-4447-4765-814d-2cd0ff1402c1",
   "metadata": {},
   "source": [
    "## 303-3 Genres\n",
    "\n",
    "Make a chart of best-ranked genres, export the result to S3, then use Tableau to check it.\n",
    "\n",
    "Use cached RDDs.\n",
    "\n",
    "Two possible workflows:\n",
    "\n",
    "1. Pre-aggregation (3 shuffles)\n",
    "\n",
    "  - Aggregate ratings by movieId\n",
    "  - Join with movies and map to genres\n",
    "  - Aggregate by genres\n",
    "  \n",
    "2. Join & aggregate (2 shuffles)\n",
    "\n",
    "  - Join with movies and map to genres\n",
    "  - Aggregate by genres\n",
    "\n"
   ]
  },
  {
   "cell_type": "code",
   "execution_count": 23,
   "id": "191a8f82-2006-49a6-9a99-9de6638df74a",
   "metadata": {
    "execution": {
     "iopub.execute_input": "2022-11-30T13:20:50.778585Z",
     "iopub.status.busy": "2022-11-30T13:20:50.778202Z",
     "iopub.status.idle": "2022-11-30T13:20:51.052211Z",
     "shell.execute_reply": "2022-11-30T13:20:51.051454Z",
     "shell.execute_reply.started": "2022-11-30T13:20:50.778538Z"
    },
    "tags": []
   },
   "outputs": [
    {
     "data": {
      "application/vnd.jupyter.widget-view+json": {
       "model_id": "83a036e0af024bda9ed8bfaf56039af8",
       "version_major": 2,
       "version_minor": 0
      },
      "text/plain": [
       "VBox()"
      ]
     },
     "metadata": {},
     "output_type": "display_data"
    },
    {
     "data": {
      "application/vnd.jupyter.widget-view+json": {
       "model_id": "",
       "version_major": 2,
       "version_minor": 0
      },
      "text/plain": [
       "FloatProgress(value=0.0, bar_style='info', description='Progress:', layout=Layout(height='25px', width='50%'),…"
      ]
     },
     "metadata": {},
     "output_type": "display_data"
    }
   ],
   "source": [
    "path_output_avgRatPerGenre = \"s3a://\"+bucketname+\"/spark/avgRatPerGenre-test\"\n",
    "\n",
    "for (id, rdd) in spark.sparkContext._jsc.getPersistentRDDs().items():\n",
    "    rdd.unpersist()"
   ]
  },
  {
   "cell_type": "markdown",
   "id": "985714c8-c217-444d-a245-4a6e5731c037",
   "metadata": {
    "execution": {
     "iopub.execute_input": "2022-03-02T17:35:22.047867Z",
     "iopub.status.busy": "2022-03-02T17:35:22.047594Z",
     "iopub.status.idle": "2022-03-02T17:35:22.815952Z",
     "shell.execute_reply": "2022-03-02T17:35:22.815275Z",
     "shell.execute_reply.started": "2022-03-02T17:35:22.047840Z"
    },
    "tags": []
   },
   "source": [
    "Which is better?\n",
    "\n",
    "1. Pre-aggregation (3 shuffles)\n",
    "\n",
    "  - Aggregate ratings by movieId\n",
    "    - Input: 724MB (there are 28M ratings, it's ~26B per rating)\n",
    "    - Output: ~1.5MB (there are 58K movies)\n",
    "  - Join with movies and map to genres\n",
    "    - Input: ~1.5MB + 2.7MB (there are 58K movies, it's ~47B per movie)\n",
    "    - Output: ~6MB (considering 47B per record and 2 genres per movie)\n",
    "  - Aggregate by genres\n",
    "    - Input: ~6MB\n",
    "    - Output: ~1KB (considering 47B per record and that there are 20 genres)\n",
    "  \n",
    "2. Join & aggregate (2 shuffles)\n",
    "\n",
    "  - Join with movies and map to genres\n",
    "    - Input: 724MB + 2.7MB\n",
    "    - Output: ~1.4GB (considering 47B per record and 2 genres per movie)\n",
    "  - Aggregate by genres\n",
    "    - Input: ~1.4GB\n",
    "    - Output: ~1KB\n",
    "\n",
    "Let's verify it."
   ]
  },
  {
   "cell_type": "code",
   "execution_count": 24,
   "id": "f66c2d7f-4e5b-4ecd-b0a2-8f1f3c6c0a0e",
   "metadata": {
    "execution": {
     "iopub.execute_input": "2022-11-30T13:21:10.079325Z",
     "iopub.status.busy": "2022-11-30T13:21:10.078976Z",
     "iopub.status.idle": "2022-11-30T13:22:51.648741Z",
     "shell.execute_reply": "2022-11-30T13:22:51.648060Z",
     "shell.execute_reply.started": "2022-11-30T13:21:10.079291Z"
    },
    "tags": []
   },
   "outputs": [
    {
     "data": {
      "application/vnd.jupyter.widget-view+json": {
       "model_id": "4de6aad3e3aa44ab943199a324299bdb",
       "version_major": 2,
       "version_minor": 0
      },
      "text/plain": [
       "VBox()"
      ]
     },
     "metadata": {},
     "output_type": "display_data"
    },
    {
     "data": {
      "application/vnd.jupyter.widget-view+json": {
       "model_id": "",
       "version_major": 2,
       "version_minor": 0
      },
      "text/plain": [
       "FloatProgress(value=0.0, bar_style='info', description='Progress:', layout=Layout(height='25px', width='50%'),…"
      ]
     },
     "metadata": {},
     "output_type": "display_data"
    }
   ],
   "source": [
    "rddMoviesKV = rddMovies.map(lambda x: ((x[0]),(x[2]))).flatMapValues(lambda x: x.split('|'))\n",
    "rddRatings.\\\n",
    "    map(lambda x: (x[1],(x[2],1))).\\\n",
    "    reduceByKey(lambda a,b: (a[0]+b[0], a[1]+b[1])).\\\n",
    "    join(rddMoviesKV).\\\n",
    "    map(lambda x: (x[1][1],(x[1][0][0],x[1][0][1]))).\\\n",
    "    reduceByKey(lambda a,b: (a[0]+b[0], a[1]+b[1])).\\\n",
    "    map(lambda x: (x[0], x[1][0]/x[1][1], x[1][1])).\\\n",
    "    coalesce(1).\\\n",
    "    toDF().write.format(\"csv\").mode('overwrite').save(path_output_avgRatPerMovie)"
   ]
  },
  {
   "cell_type": "code",
   "execution_count": 25,
   "id": "69863fe6-10f7-49d2-b3d1-ace0c1b5f56f",
   "metadata": {
    "execution": {
     "iopub.execute_input": "2022-11-30T13:22:51.650142Z",
     "iopub.status.busy": "2022-11-30T13:22:51.649915Z",
     "iopub.status.idle": "2022-11-30T13:25:27.395648Z",
     "shell.execute_reply": "2022-11-30T13:25:27.394925Z",
     "shell.execute_reply.started": "2022-11-30T13:22:51.650119Z"
    },
    "tags": []
   },
   "outputs": [
    {
     "data": {
      "application/vnd.jupyter.widget-view+json": {
       "model_id": "d443c789c130479eaeede0e86849218a",
       "version_major": 2,
       "version_minor": 0
      },
      "text/plain": [
       "VBox()"
      ]
     },
     "metadata": {},
     "output_type": "display_data"
    },
    {
     "data": {
      "application/vnd.jupyter.widget-view+json": {
       "model_id": "",
       "version_major": 2,
       "version_minor": 0
      },
      "text/plain": [
       "FloatProgress(value=0.0, bar_style='info', description='Progress:', layout=Layout(height='25px', width='50%'),…"
      ]
     },
     "metadata": {},
     "output_type": "display_data"
    }
   ],
   "source": [
    "rddMoviesKV = rddMovies.map(lambda x: ((x[0]),(x[2]))).flatMapValues(lambda x: x.split('|'))\n",
    "rddRatings.\\\n",
    "    map(lambda x: (x[1],x[2])).\\\n",
    "    join(rddMoviesKV).\\\n",
    "    map(lambda x: (x[1][1],(x[1][0],1))).\\\n",
    "    reduceByKey(lambda a,b: (a[0]+b[0], a[1]+b[1])).\\\n",
    "    map(lambda x: (x[0], x[1][0]/x[1][1], x[1][1])).\\\n",
    "    coalesce(1).\\\n",
    "    toDF().write.format(\"csv\").mode('overwrite').save(path_output_avgRatPerGenre)"
   ]
  },
  {
   "cell_type": "markdown",
   "id": "75b0c931-de93-4d25-9ef7-d798dcd0f0ad",
   "metadata": {},
   "source": [
    "The first one is definetely better!"
   ]
  }
 ],
 "metadata": {
  "kernelspec": {
   "display_name": "PySpark",
   "language": "python",
   "name": "pysparkkernel"
  },
  "language_info": {
   "codemirror_mode": {
    "name": "python",
    "version": 3
   },
   "file_extension": ".py",
   "mimetype": "text/x-python",
   "name": "pyspark",
   "pygments_lexer": "python3"
  }
 },
 "nbformat": 4,
 "nbformat_minor": 5
}
