{
 "cells": [
  {
   "cell_type": "markdown",
   "id": "7dd7243a-b7d3-4e47-b3ec-49cafdebada5",
   "metadata": {},
   "source": [
    "# 201 Spark basics\n",
    "\n",
    "The goal of this package is to get familiar with Spark programming.\n",
    "\n",
    "- [Spark programming guide](https://spark.apache.org/docs/latest/rdd-programming-guide.html)\n",
    "- [PySpark RDD APIs](https://spark.apache.org/docs/latest/api/python/reference/api/pyspark.RDD.html)"
   ]
  },
  {
   "cell_type": "markdown",
   "id": "a05b8fdd-ef59-4e64-b749-1d9ae50260bc",
   "metadata": {},
   "source": [
    "## 201-5 Spark warm-up\n",
    "\n",
    "Load the ```riddle``` dataset and try the following actions:\n",
    "- Show its content (```collect```)\n",
    "- Count the rows (```count```)\n",
    "- Split phrases into words (```map``` or ```flatMap```; what’s the difference?)\n",
    "- Check the results (remember: evaluation is lazy)"
   ]
  },
  {
   "cell_type": "code",
   "execution_count": null,
   "id": "3897182a",
   "metadata": {
    "tags": []
   },
   "outputs": [],
   "source": [
    "bucketname = \"univ-tours-bd2223-egallinucci\"\n",
    "\n",
    "rddRiddle = sc.textFile(\"s3a://\"+bucketname+\"/datasets/riddle.txt\")"
   ]
  },
  {
   "cell_type": "code",
   "execution_count": null,
   "metadata": {},
   "outputs": [],
   "source": [
    "\"SPARK UI: Enable forwarding of port 20888 and connect to http://localhost:20888/proxy/\" + sc.applicationId + \"/\""
   ]
  },
  {
   "cell_type": "markdown",
   "id": "bb2d9363-3ce0-411b-a826-ee3cceb935a1",
   "metadata": {},
   "source": [
    "## 201-6 Spark jobs\n",
    "\n",
    "Implement some basic Spark jobs. Try first on the ```riddle``` dataset, then execute on the ```fiction``` one.\n",
    "\n",
    "- Jobs:\n",
    "  - Count the number of occurrences of each word\n",
    "    - Result: ('si', 1), ('ton', 2), ('tonton', 3), ...\n",
    "  - Count the number of occurrences of words of given lengths\n",
    "    - Result: (2, 1), (3, 3), ...\n",
    "  - Count the average length of words given their first letter (hint: check the slides for aggregating multiple values)\n",
    "    - Result: ('s', 3.0), ('m', 3.0), ('t', 4.7)\n",
    "  - Return the inverted index of words (hints: use the ```zipWithIndex``` method; to print an key-value RDD with a list in the value, use ```mapValues(list)```)\n",
    "    - Result: ('si', \\[0]), ('ton', \\[0, 1]), ...\n",
    "\n",
    "- How is the output sorted? How can you sort by value?\n",
    "- Try the ```toDebugString``` function to check the execution plans"
   ]
  },
  {
   "cell_type": "code",
   "execution_count": null,
   "id": "6dbe5dcd-5e6b-4837-bccc-1f83bca44761",
   "metadata": {
    "tags": []
   },
   "outputs": [],
   "source": [
    "rddRiddle = sc.textFile(\"s3a://\"+bucketname+\"/datasets/riddle.txt\")\n",
    "rddFiction = sc.textFile(\"s3a://\"+bucketname+\"/datasets/fiction\")"
   ]
  },
  {
   "cell_type": "code",
   "execution_count": null,
   "id": "0c6e0992",
   "metadata": {
    "tags": []
   },
   "outputs": [],
   "source": [
    "myRdd = rddRiddle"
   ]
  },
  {
   "cell_type": "code",
   "execution_count": null,
   "id": "2d39ced5-45b9-4f7b-a679-6897e76f31ae",
   "metadata": {
    "tags": []
   },
   "outputs": [],
   "source": [
    "# Word count"
   ]
  },
  {
   "cell_type": "code",
   "execution_count": null,
   "id": "e141737a-283d-412e-97f6-a53004180a75",
   "metadata": {
    "tags": []
   },
   "outputs": [],
   "source": [
    "# Word length count"
   ]
  },
  {
   "cell_type": "code",
   "execution_count": null,
   "id": "9ab4132f-114c-4d97-acc6-a2d53730a0d1",
   "metadata": {
    "tags": []
   },
   "outputs": [],
   "source": [
    "# Average word length by initial"
   ]
  },
  {
   "cell_type": "code",
   "execution_count": null,
   "id": "40a0f9e3-6bcf-4018-b6b1-ae1ef0a61ccf",
   "metadata": {
    "tags": []
   },
   "outputs": [],
   "source": [
    "# Inverted index"
   ]
  }
 ],
 "metadata": {
  "kernelspec": {
   "display_name": "PySpark",
   "language": "python",
   "name": "pysparkkernel"
  },
  "language_info": {
   "codemirror_mode": {
    "name": "python",
    "version": 3
   },
   "file_extension": ".py",
   "mimetype": "text/x-python",
   "name": "pyspark",
   "pygments_lexer": "python3"
  }
 },
 "nbformat": 4,
 "nbformat_minor": 5
}